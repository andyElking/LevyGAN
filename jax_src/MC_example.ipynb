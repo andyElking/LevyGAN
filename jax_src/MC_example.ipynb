{
 "cells": [
  {
   "cell_type": "markdown",
   "id": "df8c6d76687d8614",
   "metadata": {
    "collapsed": false
   },
   "source": [
    "## How to generate samples for MC using the JAX generator"
   ]
  },
  {
   "cell_type": "code",
   "execution_count": 3,
   "id": "76d18c8257c0ee20",
   "metadata": {
    "ExecuteTime": {
     "end_time": "2024-04-11T21:44:35.413321Z",
     "start_time": "2024-04-11T21:44:34.721813Z"
    },
    "collapsed": false
   },
   "outputs": [],
   "source": [
    "import jax\n",
    "import jax.random as jr\n",
    "import jax.numpy as jnp\n",
    "import numpy as np\n",
    "\n",
    "from jax_src.sampler_for_mlmc import LASamplerForMC\n",
    "from jax_src.generator import load_net, make_net\n",
    "\n",
    "# First choose a PRNG key, which all randomness is derived from. If you use the same key, you will always get exactly the same results, no matter what environment you use, etc. Honestly, I think this is the best thing about JAX!\n",
    "key = jr.key(17)\n",
    "\n",
    "# Then create a sampler, we'll make one that uses James' method and one which uses a GAN\n",
    "foster_sampler = LASamplerForMC(bm_dim=5, net=None, key=key, method=\"Foster\")\n",
    "\n",
    "# load a net for the GAN-based sampler (you'll have to change the path)\n",
    "path = \"/home/andy/PycharmProjects/Levy_CFGAN/numpy_nets/\"\n",
    "net = load_net(\n",
    "    path=path,\n",
    "    noise_size=3,\n",
    "    hidden_size=16,\n",
    "    num_layers=3,\n",
    "    slope=0.01,\n",
    "    use_multlayer=True,\n",
    "    dtype=jnp.complex64,\n",
    ")\n",
    "# Or just create a new net\n",
    "net2 = make_net(\n",
    "    jr.key(1),\n",
    "    noise_size=3,\n",
    "    hidden_size=16,\n",
    "    num_layers=3,\n",
    "    slope=0.01,\n",
    "    use_multlayer=True,\n",
    "    dtype=jnp.complex64,\n",
    ")\n",
    "\n",
    "gan_sampler = LASamplerForMC(bm_dim=2, net=net, key=key, method=\"GAN\")"
   ]
  },
  {
   "cell_type": "markdown",
   "id": "7a3599d89b170b23",
   "metadata": {
    "collapsed": false
   },
   "source": [
    "### Generating samples\n",
    "Note that each time you generate samples using the same LASamplerForMC object, you will get different results, because the PRNG key is updated each time."
   ]
  },
  {
   "cell_type": "code",
   "execution_count": 4,
   "id": "f20418eab5741dcf",
   "metadata": {
    "ExecuteTime": {
     "end_time": "2024-04-11T21:44:37.569366Z",
     "start_time": "2024-04-11T21:44:37.261612Z"
    },
    "collapsed": false
   },
   "outputs": [
    {
     "name": "stdout",
     "output_type": "stream",
     "text": [
      "(3, 8, 3)\n",
      "(3, 8, 3)\n"
     ]
    }
   ],
   "source": [
    "# Now sample. This acts exactly the same for both methods. The output has the same shape as the original generate_MC_samples function.\n",
    "samples = gan_sampler.generate_mc_samples(m=3, n=8, dt=0.1)\n",
    "# These are a JAX array, so convert to numpy:\n",
    "samples_np = np.array(samples)\n",
    "print(samples.shape)\n",
    "print(samples_np.shape)"
   ]
  },
  {
   "cell_type": "markdown",
   "id": "56817ac09c9d93fb",
   "metadata": {
    "collapsed": false
   },
   "source": [
    "### Sample and Chen combine"
   ]
  },
  {
   "cell_type": "code",
   "execution_count": 5,
   "id": "18843c585a51d1b4",
   "metadata": {
    "ExecuteTime": {
     "end_time": "2024-04-11T21:44:40.404934Z",
     "start_time": "2024-04-11T21:44:40.055636Z"
    },
    "collapsed": false
   },
   "outputs": [
    {
     "name": "stdout",
     "output_type": "stream",
     "text": [
      "(3, 8, 3)\n",
      "(3, 4, 3)\n"
     ]
    }
   ],
   "source": [
    "samples, chen_combined_samples = gan_sampler.generate_mc_samples(\n",
    "    m=3, n=8, dt=0.1, use_chen=True\n",
    ")\n",
    "print(samples.shape)\n",
    "print(chen_combined_samples.shape)"
   ]
  },
  {
   "cell_type": "code",
   "execution_count": 6,
   "id": "4369b5a40e5d1a45",
   "metadata": {
    "ExecuteTime": {
     "end_time": "2024-04-11T21:44:41.253995Z",
     "start_time": "2024-04-11T21:44:41.250895Z"
    },
    "collapsed": false
   },
   "outputs": [
    {
     "name": "stdout",
     "output_type": "stream",
     "text": [
      "0.0012984275817871094\n"
     ]
    }
   ],
   "source": [
    "import time\n",
    "\n",
    "start = time.time()\n",
    "for i in range(1):\n",
    "    samples = jax.block_until_ready(gan_sampler.generate_mc_samples(m=3, n=8, dt=0.1))\n",
    "end = time.time()\n",
    "print((end - start) / 1)"
   ]
  },
  {
   "cell_type": "code",
   "execution_count": null,
   "id": "7ffa725ee2dee8a3",
   "metadata": {
    "collapsed": false
   },
   "outputs": [],
   "source": []
  }
 ],
 "metadata": {
  "kernelspec": {
   "display_name": "Python 3",
   "language": "python",
   "name": "python3"
  },
  "language_info": {
   "codemirror_mode": {
    "name": "ipython",
    "version": 2
   },
   "file_extension": ".py",
   "mimetype": "text/x-python",
   "name": "python",
   "nbconvert_exporter": "python",
   "pygments_lexer": "ipython2",
   "version": "2.7.6"
  }
 },
 "nbformat": 4,
 "nbformat_minor": 5
}
