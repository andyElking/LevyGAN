{
 "cells": [
  {
   "cell_type": "code",
   "execution_count": 117,
   "id": "initial_id",
   "metadata": {
    "ExecuteTime": {
     "end_time": "2024-04-11T19:12:25.681251Z",
     "start_time": "2024-04-11T19:12:25.673699Z"
    },
    "collapsed": true
   },
   "outputs": [],
   "source": [
    "from functools import partial\n",
    "from typing import Optional\n",
    "from jax import Array\n",
    "import math\n",
    "import jax\n",
    "import jax.numpy as jnp\n",
    "import jax.random as jr\n",
    "from jax import lax\n",
    "import equinox as eqx\n",
    "\n",
    "from jax_src.sst import load_sst_net, SSTNet\n",
    "from jax_src.discriminator import marginal_wass2_error\n",
    "\n",
    "\n",
    "jax.config.update(\"jax_enable_x64\", True)\n",
    "dtype = jnp.float64\n",
    "\n",
    "\n",
    "@eqx.filter_jit\n",
    "def compute_ll(w_01: Array, hh_01: Array, c_01: Array, dt):\n",
    "    return ((dt**2) / 2.0) * (c_01 - w_01 * hh_01 - 1 / 3 * w_01**2)\n",
    "\n",
    "\n",
    "@eqx.filter_jit\n",
    "def generate_w_hh_ll(key, net: Optional[SSTNet], dt, num_samples: int, dtype):\n",
    "    key_w, key_hh, key_c = jr.split(key, 3)\n",
    "    w_01 = jr.normal(key_w, (num_samples,), dtype=dtype)\n",
    "    hh_01 = math.sqrt(1 / 12) * jr.normal(key_hh, (num_samples,), dtype=dtype)\n",
    "    if net is None:\n",
    "        ll = dt**2 * (1 / 30 + (3 / 5) * (hh_01**2))\n",
    "    else:\n",
    "        c_01 = jnp.squeeze(net.generate_c(key_c, w_01, hh_01))\n",
    "        ll = compute_ll(w_01, hh_01, c_01, dt)\n",
    "    w = jnp.sqrt(dt) * w_01\n",
    "    hh = jnp.sqrt(dt) * hh_01\n",
    "    return w, hh, ll\n",
    "\n",
    "\n",
    "@eqx.filter_jit\n",
    "def step(key, dt, args, y_n: Array, net: Optional[SSTNet]):\n",
    "    a, b, sigma = args\n",
    "    num_samples = y_n.shape[0]\n",
    "    dtype = y_n.dtype\n",
    "    assert y_n.ndim == 1\n",
    "    w, hh, ll = generate_w_hh_ll(key, net, dt, num_samples, dtype)\n",
    "    c1 = sigma * w - a * dt\n",
    "    c2 = a * b * (dt - dt * sigma * hh + (sigma**2) * ll)\n",
    "    exp_c1 = jnp.exp(c1)\n",
    "    exp_c1_by_c1 = (\n",
    "        1.0\n",
    "        + 1 / 2 * c1\n",
    "        + 1 / 6 * c1**2\n",
    "        + 1 / 24 * c1**3\n",
    "        + 1 / 120 * c1**4\n",
    "        + 1 / 720 * c1**5\n",
    "    )\n",
    "    y_next = y_n * exp_c1 + c2 * exp_c1_by_c1\n",
    "    return y_next\n",
    "\n",
    "\n",
    "@eqx.filter_jit\n",
    "def simulate(key, args, y0: Array, net: Optional[SSTNet], t1, num_steps: int):\n",
    "    dt0 = jnp.asarray(t1 / num_steps, dtype=dtype)\n",
    "    carry = y0, jnp.asarray(0.0, dtype=dtype)\n",
    "    keys = jnp.array(jr.split(key, num_steps))\n",
    "\n",
    "    def scan_step(_carry, _key):\n",
    "        y, t = _carry\n",
    "        dt = jnp.minimum(t1 - t, dt0)\n",
    "        t = t + dt\n",
    "        return (step(_key, dt, args, y, net), t), None\n",
    "\n",
    "    (y_t1, _), _ = lax.scan(scan_step, carry, keys, length=num_steps)\n",
    "    return y_t1\n",
    "\n",
    "\n",
    "@partial(jax.jit, static_argnames=(\"max_len\",))\n",
    "def energy_distance(x: Array, y: Array, max_len: int = 2**15):\n",
    "    assert y.ndim == x.ndim\n",
    "    assert x.shape[1:] == y.shape[1:]\n",
    "    if x.shape[0] > max_len:\n",
    "        x = x[:max_len]\n",
    "    if y.shape[0] > max_len:\n",
    "        y = y[:max_len]\n",
    "\n",
    "    @partial(jax.vmap, in_axes=(None, 0))\n",
    "    def _dist_single(_x, _y_single):\n",
    "        assert _x.ndim == _y_single.ndim + 1, f\"{_x.ndim} != {_y_single.ndim + 1}\"\n",
    "        diff = _x - _y_single\n",
    "        if x.ndim > 1:\n",
    "            # take the norm over all axes except the first one\n",
    "            diff = jnp.sqrt(jnp.sum(diff**2, axis=tuple(range(1, diff.ndim))))\n",
    "        return jnp.mean(jnp.abs(diff))\n",
    "\n",
    "    def dist(_x, _y):\n",
    "        assert _x.ndim == _y.ndim\n",
    "        return jnp.mean(_dist_single(_x, _y))\n",
    "\n",
    "    return 2 * dist(x, y) - dist(x, x) - dist(y, y)"
   ]
  },
  {
   "cell_type": "code",
   "execution_count": 130,
   "id": "a276b6946160b01b",
   "metadata": {
    "ExecuteTime": {
     "end_time": "2024-04-11T19:21:34.243850Z",
     "start_time": "2024-04-11T19:21:30.826268Z"
    },
    "collapsed": false
   },
   "outputs": [
    {
     "name": "stdout",
     "output_type": "stream",
     "text": [
      "Mean error: 0.006662, variance error: 0.0009496, avg var: 0.05002, wass error: 3.271e-05, score: 0.02005\n",
      "Inital score: 0.02005\n"
     ]
    }
   ],
   "source": [
    "from jax_src.sst import eval_net\n",
    "\n",
    "noise_size = 3\n",
    "hidden_dim = 16\n",
    "num_layers = 3\n",
    "leaky_slope = 0.01\n",
    "use_multlayer = True\n",
    "net = load_sst_net(\n",
    "    \"/home/andy/PycharmProjects/Levy_CFGAN/numpy_nets/\",\n",
    "    noise_size,\n",
    "    hidden_dim,\n",
    "    num_layers,\n",
    "    leaky_slope,\n",
    "    use_multlayer,\n",
    "    jnp.float64,\n",
    "    use_batch_norm=False,\n",
    "    use_activation=True,\n",
    ")\n",
    "\n",
    "\n",
    "def ito_to_stratonovich(a: float, b: float, sigma: float):\n",
    "    tilde_a = a + sigma**2 / 2\n",
    "    tilde_b = a * b / tilde_a\n",
    "    return tilde_a, tilde_b, sigma\n",
    "\n",
    "\n",
    "def get_args(a: float, b: float, sigma: float):\n",
    "    return (\n",
    "        jnp.array(a, dtype=dtype),\n",
    "        jnp.array(b, dtype=dtype),\n",
    "        jnp.array(sigma, dtype=dtype),\n",
    "    )\n",
    "\n",
    "\n",
    "ito_args = (1.0, 0.1, 1.4)\n",
    "strat_args = get_args(*ito_to_stratonovich(*ito_args))\n",
    "# ito_args = (1.0, 1.0, 1.0)\n",
    "# strat_args = get_args(*ito_args)\n",
    "\n",
    "_ = eval_net(net, jr.key(6), 100, 2**20, -1, True, False)\n",
    "\n",
    "num_samples = 2**16\n",
    "# y0_flt = 0.06\n",
    "y0_flt = 0.16\n",
    "y0 = jnp.broadcast_to(jnp.array(y0_flt, dtype=dtype), (num_samples,))\n",
    "\n",
    "t1 = jnp.array(5.0, dtype=dtype)"
   ]
  },
  {
   "cell_type": "code",
   "execution_count": 128,
   "id": "1d4a9754ff923785",
   "metadata": {
    "ExecuteTime": {
     "end_time": "2024-04-11T19:20:16.702422Z",
     "start_time": "2024-04-11T19:20:15.000257Z"
    },
    "collapsed": false
   },
   "outputs": [
    {
     "name": "stdout",
     "output_type": "stream",
     "text": [
      "Y_true shape: (65536,), mean: 0.1003, std: 0.2873, wasserstein_bias: 0.02386, enn_bias: 5.999e-06\n"
     ]
    }
   ],
   "source": [
    "# ito_args_str = \"_\".join([str(arg) for arg in ito_args])\n",
    "# filename = f\"igbm_{ito_args_str}_SlowRK_2^21.npy\"\n",
    "# # filename = f\"igbm_y{y0_flt}_args_{ito_args_str}_SlowRK_2^21.npy\"\n",
    "# print(filename)\n",
    "# with open(filename, \"rb\") as f:\n",
    "#     y_true = np.load(f)\n",
    "y_true = simulate(jr.key(601), strat_args, y0, net, t1, 2**8 + 7)\n",
    "y_true2 = simulate(jr.key(91), strat_args, y0, net, t1, 2**7 + 1)\n",
    "# y_true = jnp.sqrt(jnp.abs(jr.normal(jr.key(9), (num_samples+6, 3), dtype=dtype)))\n",
    "# y_true2 = jnp.sqrt(jnp.abs(jr.normal(jr.key(10), (num_samples+6, 3), dtype=dtype)))\n",
    "# wasserstein_bias = 0.\n",
    "wasserstein_bias = marginal_wass2_error(y_true, y_true2)\n",
    "\n",
    "energy_bias = energy_distance(y_true, y_true2, max_len=2**16)\n",
    "del y_true2\n",
    "print(\n",
    "    f\"Y_true shape: {y_true.shape}, mean: {jnp.mean(y_true):.4}, std: {jnp.std(y_true):.4}, wasserstein_bias: {wasserstein_bias:.4}, enn_bias: {energy_bias:.4}\"\n",
    ")"
   ]
  },
  {
   "cell_type": "code",
   "execution_count": 129,
   "id": "db03e5b7ed5bde8",
   "metadata": {
    "ExecuteTime": {
     "end_time": "2024-04-11T19:20:32.840598Z",
     "start_time": "2024-04-11T19:20:19.675575Z"
    },
    "collapsed": false
   },
   "outputs": [
    {
     "name": "stdout",
     "output_type": "stream",
     "text": [
      "p: 1, energy_err_net: 101.74, energy_err_m_o: 105.99\n",
      "p: 2, energy_err_net: 1.4216, energy_err_m_o: 1.4434\n",
      "p: 3, energy_err_net: 0.12183, energy_err_m_o: 0.12307\n",
      "p: 4, energy_err_net: 0.019207, energy_err_m_o: 0.019225\n",
      "p: 5, energy_err_net: 0.0041282, energy_err_m_o: 0.0041345\n",
      "p: 6, energy_err_net: 0.0011118, energy_err_m_o: 0.0011144\n",
      "p: 7, energy_err_net: 0.00033826, energy_err_m_o: 0.00033833\n",
      "p: 8, energy_err_net: 0.00011376, energy_err_m_o: 0.00011433\n",
      "p: 9, energy_err_net: 4.2253e-05, energy_err_m_o: 4.2925e-05\n",
      "p: 10, energy_err_net: 1.3267e-05, energy_err_m_o: 1.3024e-05\n",
      "p: 11, energy_err_net: 1.0568e-05, energy_err_m_o: 1.0866e-05\n",
      "p: 12, energy_err_net: 5.4887e-06, energy_err_m_o: 5.3018e-06\n",
      "p: 13, energy_err_net: 3.0385e-06, energy_err_m_o: 3.2076e-06\n",
      "p: 14, energy_err_net: 2.3121e-06, energy_err_m_o: 2.4498e-06\n",
      "p: 15, energy_err_net: 3.2824e-06, energy_err_m_o: 3.5947e-06\n",
      "p: 16, energy_err_net: 4.1792e-06, energy_err_m_o: 3.9896e-06\n",
      "p: 17, energy_err_net: 2.3887e-06, energy_err_m_o: 2.2461e-06\n",
      "p: 18, energy_err_net: 1.5957e-06, energy_err_m_o: 1.4782e-06\n",
      "p: 19, energy_err_net: 1.4322e-06, energy_err_m_o: 1.5183e-06\n"
     ]
    }
   ],
   "source": [
    "steps_net = []\n",
    "errors_net = []\n",
    "errors_mean_only = []\n",
    "for n in range(1, 20):\n",
    "    num_steps = n\n",
    "    steps_net.append(num_steps)\n",
    "    y1_net = simulate(jr.key(1), strat_args, y0, net, t1, num_steps)\n",
    "    energy_err_net = energy_distance(y1_net, y_true, max_len=2**16)\n",
    "    errors_net.append(energy_err_net)\n",
    "\n",
    "    y1_m_o = simulate(jr.key(1), strat_args, y0, None, t1, num_steps)\n",
    "    energy_err_m_o = energy_distance(y1_m_o, y_true, max_len=2**16)\n",
    "    errors_mean_only.append(energy_err_m_o)\n",
    "\n",
    "    print(\n",
    "        f\"p: {n}, energy_err_net: {energy_err_net:.5}, energy_err_m_o: {energy_err_m_o:.5}\"\n",
    "    )"
   ]
  }
 ],
 "metadata": {
  "kernelspec": {
   "display_name": "Python 3",
   "language": "python",
   "name": "python3"
  },
  "language_info": {
   "codemirror_mode": {
    "name": "ipython",
    "version": 2
   },
   "file_extension": ".py",
   "mimetype": "text/x-python",
   "name": "python",
   "nbconvert_exporter": "python",
   "pygments_lexer": "ipython2",
   "version": "2.7.6"
  }
 },
 "nbformat": 4,
 "nbformat_minor": 5
}
