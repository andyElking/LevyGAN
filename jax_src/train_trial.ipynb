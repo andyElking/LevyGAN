{
 "cells": [
  {
   "cell_type": "code",
   "execution_count": 3,
   "id": "85e5a969d1f98c1d",
   "metadata": {
    "ExecuteTime": {
     "end_time": "2024-04-04T12:43:30.109468Z",
     "start_time": "2024-04-04T12:43:30.104520Z"
    },
    "collapsed": false
   },
   "outputs": [],
   "source": [
    "import math\n",
    "import optax\n",
    "import jax.numpy as jnp\n",
    "import jax.random as jr\n",
    "import matplotlib.pyplot as plt\n",
    "import torch\n",
    "import jax  # noqa: F401\n",
    "\n",
    "from jax_src.train import train, la_loss, bb_loss, bb_loss_fixed_wh, make_optimizer  # noqa: F401\n",
    "from jax_src.generator import Net, make_net, save_net, load_net  # noqa: F401\n",
    "from jax_src.discriminator import (\n",
    "    UCFDiscriminator,\n",
    "    init_transform,\n",
    "    WassersteinDiscriminator,\n",
    ")  # noqa: F401\n",
    "from jax_src.evaluation import evaluate_net, evaluate_fosters_method  # noqa: F401\n",
    "\n",
    "jax.config.update(\"jax_enable_x64\", True)\n",
    "test_bm_dim = 6\n",
    "\n",
    "\n",
    "def load_moments(bm_dim):\n",
    "    file_path = f\"/home/andy/PycharmProjects/Levy_CFGAN/moments/dim_{bm_dim}_moments.pt\"\n",
    "    moments_loaded = torch.load(file_path)\n",
    "    return moments_loaded.numpy()\n",
    "\n",
    "\n",
    "true_4moms = load_moments(test_bm_dim)\n",
    "\n",
    "\n",
    "def eval_and_save(\n",
    "    current_best, net, key, true_4moms, num_samples, bm_dim, saving=False\n",
    "):\n",
    "    eval_results = evaluate_net(net, key, true_4moms, num_samples, bm_dim)\n",
    "    max_4mom_err = eval_results[0][1]\n",
    "    wass2_err = eval_results[5]\n",
    "    score = math.sqrt(max_4mom_err**2 + wass2_err**2)\n",
    "    if score < current_best:\n",
    "        print(f\"New best score: {score:.4}\")\n",
    "        if saving:\n",
    "            save_net(net, \"/home/andy/PycharmProjects/Levy_CFGAN/numpy_nets/\")\n",
    "        return score\n",
    "    elif current_best == -1:\n",
    "        print(f\"Initial score: {score:.4}\")\n",
    "        return score\n",
    "    else:\n",
    "        return current_best\n",
    "\n",
    "\n",
    "def plot_losses(_losses_list):\n",
    "    all_losses = jnp.abs(jnp.concatenate(_losses_list, axis=0))\n",
    "    # Get rid of spikes\n",
    "    bound1 = jnp.min(all_losses) + 3 * jnp.std(all_losses)\n",
    "    losses_pruned = all_losses[all_losses < bound1]\n",
    "    bound2 = jnp.mean(losses_pruned) + 3 * jnp.std(losses_pruned)\n",
    "    all_losses = jnp.clip(all_losses, 0.0, bound2)\n",
    "\n",
    "    plt.plot(all_losses)\n",
    "    plt.show()"
   ]
  },
  {
   "cell_type": "code",
   "execution_count": 2,
   "id": "161b04a7cf4bcd01",
   "metadata": {
    "ExecuteTime": {
     "end_time": "2024-04-04T12:19:33.630663Z",
     "start_time": "2024-04-04T12:19:27.571768Z"
    },
    "collapsed": false
   },
   "outputs": [
    {
     "name": "stdout",
     "output_type": "stream",
     "text": [
      "Wass2: 0.084; MOMS: 4max: 0.0227, 4avg: 0.000886, 3max: 0.00231, 2max: 0.0415, 1max: 0.00097, 0max: 0.307\n",
      "Initial score: 0.08699\n"
     ]
    }
   ],
   "source": [
    "# Either make a new net or load a pre-trained one\n",
    "noise_size = 4\n",
    "hidden_dim = 16\n",
    "num_layers = 3\n",
    "leaky_slope = 0.01\n",
    "use_multlayer = True\n",
    "net = make_net(\n",
    "    jr.key(7),\n",
    "    noise_size,\n",
    "    hidden_dim,\n",
    "    num_layers,\n",
    "    leaky_slope,\n",
    "    use_multlayer,\n",
    "    dtype=jnp.complex64,\n",
    "    use_batch_norm=False,\n",
    "    use_activation=True,\n",
    ")\n",
    "saving = True\n",
    "# net = load_net(\n",
    "#     \"/home/andy/PycharmProjects/Levy_CFGAN/numpy_nets/\",\n",
    "#     noise_size,\n",
    "#     hidden_dim,\n",
    "#     num_layers,\n",
    "#     leaky_slope,\n",
    "#     use_multlayer,\n",
    "#     jnp.complex64,\n",
    "#     use_batch_norm=False,\n",
    "#     use_activation=True,\n",
    "# )\n",
    "losses_list = []\n",
    "GLOBAL_KEY = jr.key(3)\n",
    "# net without training\n",
    "net_best = eval_and_save(-1, net, jr.key(6), true_4moms, 2**20, test_bm_dim, saving)"
   ]
  },
  {
   "cell_type": "markdown",
   "id": "5eea272b345ec950",
   "metadata": {
    "collapsed": false
   },
   "source": [
    "## BB loss"
   ]
  },
  {
   "cell_type": "code",
   "execution_count": 3,
   "id": "c525eb53ba42616f",
   "metadata": {
    "ExecuteTime": {
     "end_time": "2024-04-04T12:19:33.768944Z",
     "start_time": "2024-04-04T12:19:33.631409Z"
    },
    "collapsed": false
   },
   "outputs": [],
   "source": [
    "bm_dim_train = 4\n",
    "GLOBAL_KEY, temp_key = jr.split(GLOBAL_KEY, 2)\n",
    "\n",
    "\n",
    "def get_discr(global_key, use_ucfd=True):\n",
    "    if use_ucfd:\n",
    "        global_key, temp_key = jr.split(global_key, 2)\n",
    "        m = 64\n",
    "        n = 3\n",
    "        M = init_transform(\n",
    "            temp_key, bm_dim_train, m, n, jnp.complex64\n",
    "        )  # nxn Lie algebra, m different tensors\n",
    "        discriminator = UCFDiscriminator(M, bm_dim_train)\n",
    "    else:\n",
    "        discriminator = WassersteinDiscriminator(bm_dim_train)\n",
    "    return discriminator, global_key\n",
    "\n",
    "\n",
    "wass_discr, GLOBAL_KEY = get_discr(GLOBAL_KEY, use_ucfd=False)\n",
    "ucf_discr, GLOBAL_KEY = get_discr(GLOBAL_KEY, use_ucfd=True)"
   ]
  },
  {
   "cell_type": "code",
   "execution_count": 5,
   "id": "c837a40f57441bbc",
   "metadata": {
    "ExecuteTime": {
     "end_time": "2024-04-04T12:29:06.497137Z",
     "start_time": "2024-04-04T12:27:47.968979Z"
    },
    "collapsed": false
   },
   "outputs": [
    {
     "name": "stdout",
     "output_type": "stream",
     "text": [
      "======== Wasserstein rep 1/20 ======== avg_loss: 0.02034\n",
      "Wass2: 0.097; MOMS: 4max: 0.0279, 4avg: 0.000585, 3max: 0.00161, 2max: 0.0174, 1max: 0.00151, 0max: 0.343\n",
      "\n",
      "======== Wasserstein rep 2/20 ======== avg_loss: 0.02043\n",
      "Wass2: 0.0915; MOMS: 4max: 0.0362, 4avg: 0.000643, 3max: 0.00144, 2max: 0.0101, 1max: 0.00145, 0max: 0.351\n",
      "\n",
      "======== Wasserstein rep 3/20 ======== avg_loss: 0.02043\n",
      "Wass2: 0.0865; MOMS: 4max: 0.0421, 4avg: 0.000681, 3max: 0.00133, 2max: 0.00427, 1max: 0.00123, 0max: 0.357\n"
     ]
    },
    {
     "ename": "KeyboardInterrupt",
     "evalue": "",
     "output_type": "error",
     "traceback": [
      "\u001b[0;31m---------------------------------------------------------------------------\u001b[0m",
      "\u001b[0;31mKeyboardInterrupt\u001b[0m                         Traceback (most recent call last)",
      "Cell \u001b[0;32mIn[5], line 28\u001b[0m\n\u001b[1;32m     17\u001b[0m \u001b[38;5;28;01mfor\u001b[39;00m i \u001b[38;5;129;01min\u001b[39;00m \u001b[38;5;28mrange\u001b[39m(num_reps):\n\u001b[1;32m     18\u001b[0m     \u001b[38;5;66;03m# Re-initialize the discriminator every few iterations\u001b[39;00m\n\u001b[1;32m     19\u001b[0m     \u001b[38;5;66;03m# num_discr_iters = 3\u001b[39;00m\n\u001b[0;32m   (...)\u001b[0m\n\u001b[1;32m     24\u001b[0m     \u001b[38;5;66;03m#     num_discr_iters += 7\u001b[39;00m\n\u001b[1;32m     25\u001b[0m     \u001b[38;5;66;03m#     lr_ratio *= 2.0\u001b[39;00m\n\u001b[1;32m     27\u001b[0m     GLOBAL_KEY, temp_key \u001b[38;5;241m=\u001b[39m jr\u001b[38;5;241m.\u001b[39msplit(GLOBAL_KEY, \u001b[38;5;241m2\u001b[39m)\n\u001b[0;32m---> 28\u001b[0m     net, wass_discr, opt_state_wass, losses \u001b[38;5;241m=\u001b[39m \u001b[43mtrain\u001b[49m\u001b[43m(\u001b[49m\n\u001b[1;32m     29\u001b[0m \u001b[43m        \u001b[49m\u001b[43mnet\u001b[49m\u001b[43m,\u001b[49m\n\u001b[1;32m     30\u001b[0m \u001b[43m        \u001b[49m\u001b[43mwass_discr\u001b[49m\u001b[43m,\u001b[49m\n\u001b[1;32m     31\u001b[0m \u001b[43m        \u001b[49m\u001b[43mtemp_key\u001b[49m\u001b[43m,\u001b[49m\n\u001b[1;32m     32\u001b[0m \u001b[43m        \u001b[49m\u001b[43mnum_steps_wass\u001b[49m\u001b[43m,\u001b[49m\n\u001b[1;32m     33\u001b[0m \u001b[43m        \u001b[49m\u001b[43mopt_wass\u001b[49m\u001b[43m,\u001b[49m\n\u001b[1;32m     34\u001b[0m \u001b[43m        \u001b[49m\u001b[43mopt_state_wass\u001b[49m\u001b[43m,\u001b[49m\n\u001b[1;32m     35\u001b[0m \u001b[43m        \u001b[49m\u001b[43mbb_loss_fixed_wh\u001b[49m\u001b[43m,\u001b[49m\n\u001b[1;32m     36\u001b[0m \u001b[43m        \u001b[49m\u001b[38;5;241;43m1.0\u001b[39;49m\u001b[43m,\u001b[49m\n\u001b[1;32m     37\u001b[0m \u001b[43m        \u001b[49m\u001b[38;5;241;43m1\u001b[39;49m\u001b[43m,\u001b[49m\n\u001b[1;32m     38\u001b[0m \u001b[43m    \u001b[49m\u001b[43m)\u001b[49m\n\u001b[1;32m     39\u001b[0m     avg_loss \u001b[38;5;241m=\u001b[39m \u001b[38;5;28mfloat\u001b[39m(jnp\u001b[38;5;241m.\u001b[39mmean(jnp\u001b[38;5;241m.\u001b[39mabs(losses)))\n\u001b[1;32m     40\u001b[0m     \u001b[38;5;28mprint\u001b[39m(\u001b[38;5;124mf\u001b[39m\u001b[38;5;124m\"\u001b[39m\u001b[38;5;124m======== Wasserstein rep \u001b[39m\u001b[38;5;132;01m{\u001b[39;00mi\u001b[38;5;241m+\u001b[39m\u001b[38;5;241m1\u001b[39m\u001b[38;5;132;01m}\u001b[39;00m\u001b[38;5;124m/\u001b[39m\u001b[38;5;132;01m{\u001b[39;00mnum_reps\u001b[38;5;132;01m}\u001b[39;00m\u001b[38;5;124m ======== avg_loss: \u001b[39m\u001b[38;5;132;01m{\u001b[39;00mavg_loss\u001b[38;5;132;01m:\u001b[39;00m\u001b[38;5;124m.4\u001b[39m\u001b[38;5;132;01m}\u001b[39;00m\u001b[38;5;124m\"\u001b[39m)\n",
      "    \u001b[0;31m[... skipping hidden 1 frame]\u001b[0m\n",
      "File \u001b[0;32m~/PycharmProjects/LevyGAN/levygan_venv/lib/python3.11/site-packages/jax/_src/pjit.py:248\u001b[0m, in \u001b[0;36m_cpp_pjit.<locals>.cache_miss\u001b[0;34m(*args, **kwargs)\u001b[0m\n\u001b[1;32m    246\u001b[0m \u001b[38;5;129m@api_boundary\u001b[39m\n\u001b[1;32m    247\u001b[0m \u001b[38;5;28;01mdef\u001b[39;00m \u001b[38;5;21mcache_miss\u001b[39m(\u001b[38;5;241m*\u001b[39margs, \u001b[38;5;241m*\u001b[39m\u001b[38;5;241m*\u001b[39mkwargs):\n\u001b[0;32m--> 248\u001b[0m   outs, out_flat, out_tree, args_flat, jaxpr, attrs_tracked \u001b[38;5;241m=\u001b[39m \u001b[43m_python_pjit_helper\u001b[49m\u001b[43m(\u001b[49m\n\u001b[1;32m    249\u001b[0m \u001b[43m      \u001b[49m\u001b[43mfun\u001b[49m\u001b[43m,\u001b[49m\u001b[43m \u001b[49m\u001b[43minfer_params_fn\u001b[49m\u001b[43m,\u001b[49m\u001b[43m \u001b[49m\u001b[38;5;241;43m*\u001b[39;49m\u001b[43margs\u001b[49m\u001b[43m,\u001b[49m\u001b[43m \u001b[49m\u001b[38;5;241;43m*\u001b[39;49m\u001b[38;5;241;43m*\u001b[39;49m\u001b[43mkwargs\u001b[49m\u001b[43m)\u001b[49m\n\u001b[1;32m    250\u001b[0m   executable \u001b[38;5;241m=\u001b[39m _read_most_recent_pjit_call_executable(jaxpr)\n\u001b[1;32m    251\u001b[0m   maybe_fastpath_data \u001b[38;5;241m=\u001b[39m _get_fastpath_data(\n\u001b[1;32m    252\u001b[0m       executable, out_tree, args_flat, out_flat, attrs_tracked)\n",
      "File \u001b[0;32m~/PycharmProjects/LevyGAN/levygan_venv/lib/python3.11/site-packages/jax/_src/pjit.py:143\u001b[0m, in \u001b[0;36m_python_pjit_helper\u001b[0;34m(fun, infer_params_fn, *args, **kwargs)\u001b[0m\n\u001b[1;32m    141\u001b[0m   args_flat \u001b[38;5;241m=\u001b[39m [\u001b[38;5;241m*\u001b[39minit_states, \u001b[38;5;241m*\u001b[39margs_flat]\n\u001b[1;32m    142\u001b[0m \u001b[38;5;28;01mtry\u001b[39;00m:\n\u001b[0;32m--> 143\u001b[0m   out_flat \u001b[38;5;241m=\u001b[39m \u001b[43mpjit_p\u001b[49m\u001b[38;5;241;43m.\u001b[39;49m\u001b[43mbind\u001b[49m\u001b[43m(\u001b[49m\u001b[38;5;241;43m*\u001b[39;49m\u001b[43margs_flat\u001b[49m\u001b[43m,\u001b[49m\u001b[43m \u001b[49m\u001b[38;5;241;43m*\u001b[39;49m\u001b[38;5;241;43m*\u001b[39;49m\u001b[43mparams\u001b[49m\u001b[43m)\u001b[49m\n\u001b[1;32m    144\u001b[0m \u001b[38;5;28;01mexcept\u001b[39;00m pxla\u001b[38;5;241m.\u001b[39mDeviceAssignmentMismatchError \u001b[38;5;28;01mas\u001b[39;00m e:\n\u001b[1;32m    145\u001b[0m   fails, \u001b[38;5;241m=\u001b[39m e\u001b[38;5;241m.\u001b[39margs\n",
      "File \u001b[0;32m~/PycharmProjects/LevyGAN/levygan_venv/lib/python3.11/site-packages/jax/_src/core.py:2727\u001b[0m, in \u001b[0;36mAxisPrimitive.bind\u001b[0;34m(self, *args, **params)\u001b[0m\n\u001b[1;32m   2723\u001b[0m axis_main \u001b[38;5;241m=\u001b[39m \u001b[38;5;28mmax\u001b[39m((axis_frame(a)\u001b[38;5;241m.\u001b[39mmain_trace \u001b[38;5;28;01mfor\u001b[39;00m a \u001b[38;5;129;01min\u001b[39;00m used_axis_names(\u001b[38;5;28mself\u001b[39m, params)),\n\u001b[1;32m   2724\u001b[0m                 default\u001b[38;5;241m=\u001b[39m\u001b[38;5;28;01mNone\u001b[39;00m, key\u001b[38;5;241m=\u001b[39m\u001b[38;5;28;01mlambda\u001b[39;00m t: \u001b[38;5;28mgetattr\u001b[39m(t, \u001b[38;5;124m'\u001b[39m\u001b[38;5;124mlevel\u001b[39m\u001b[38;5;124m'\u001b[39m, \u001b[38;5;241m-\u001b[39m\u001b[38;5;241m1\u001b[39m))\n\u001b[1;32m   2725\u001b[0m top_trace \u001b[38;5;241m=\u001b[39m (top_trace \u001b[38;5;28;01mif\u001b[39;00m \u001b[38;5;129;01mnot\u001b[39;00m axis_main \u001b[38;5;129;01mor\u001b[39;00m axis_main\u001b[38;5;241m.\u001b[39mlevel \u001b[38;5;241m<\u001b[39m top_trace\u001b[38;5;241m.\u001b[39mlevel\n\u001b[1;32m   2726\u001b[0m              \u001b[38;5;28;01melse\u001b[39;00m axis_main\u001b[38;5;241m.\u001b[39mwith_cur_sublevel())\n\u001b[0;32m-> 2727\u001b[0m \u001b[38;5;28;01mreturn\u001b[39;00m \u001b[38;5;28;43mself\u001b[39;49m\u001b[38;5;241;43m.\u001b[39;49m\u001b[43mbind_with_trace\u001b[49m\u001b[43m(\u001b[49m\u001b[43mtop_trace\u001b[49m\u001b[43m,\u001b[49m\u001b[43m \u001b[49m\u001b[43margs\u001b[49m\u001b[43m,\u001b[49m\u001b[43m \u001b[49m\u001b[43mparams\u001b[49m\u001b[43m)\u001b[49m\n",
      "File \u001b[0;32m~/PycharmProjects/LevyGAN/levygan_venv/lib/python3.11/site-packages/jax/_src/core.py:423\u001b[0m, in \u001b[0;36mPrimitive.bind_with_trace\u001b[0;34m(self, trace, args, params)\u001b[0m\n\u001b[1;32m    422\u001b[0m \u001b[38;5;28;01mdef\u001b[39;00m \u001b[38;5;21mbind_with_trace\u001b[39m(\u001b[38;5;28mself\u001b[39m, trace, args, params):\n\u001b[0;32m--> 423\u001b[0m   out \u001b[38;5;241m=\u001b[39m \u001b[43mtrace\u001b[49m\u001b[38;5;241;43m.\u001b[39;49m\u001b[43mprocess_primitive\u001b[49m\u001b[43m(\u001b[49m\u001b[38;5;28;43mself\u001b[39;49m\u001b[43m,\u001b[49m\u001b[43m \u001b[49m\u001b[38;5;28;43mmap\u001b[39;49m\u001b[43m(\u001b[49m\u001b[43mtrace\u001b[49m\u001b[38;5;241;43m.\u001b[39;49m\u001b[43mfull_raise\u001b[49m\u001b[43m,\u001b[49m\u001b[43m \u001b[49m\u001b[43margs\u001b[49m\u001b[43m)\u001b[49m\u001b[43m,\u001b[49m\u001b[43m \u001b[49m\u001b[43mparams\u001b[49m\u001b[43m)\u001b[49m\n\u001b[1;32m    424\u001b[0m   \u001b[38;5;28;01mreturn\u001b[39;00m \u001b[38;5;28mmap\u001b[39m(full_lower, out) \u001b[38;5;28;01mif\u001b[39;00m \u001b[38;5;28mself\u001b[39m\u001b[38;5;241m.\u001b[39mmultiple_results \u001b[38;5;28;01melse\u001b[39;00m full_lower(out)\n",
      "File \u001b[0;32m~/PycharmProjects/LevyGAN/levygan_venv/lib/python3.11/site-packages/jax/_src/core.py:913\u001b[0m, in \u001b[0;36mEvalTrace.process_primitive\u001b[0;34m(self, primitive, tracers, params)\u001b[0m\n\u001b[1;32m    912\u001b[0m \u001b[38;5;28;01mdef\u001b[39;00m \u001b[38;5;21mprocess_primitive\u001b[39m(\u001b[38;5;28mself\u001b[39m, primitive, tracers, params):\n\u001b[0;32m--> 913\u001b[0m   \u001b[38;5;28;01mreturn\u001b[39;00m \u001b[43mprimitive\u001b[49m\u001b[38;5;241;43m.\u001b[39;49m\u001b[43mimpl\u001b[49m\u001b[43m(\u001b[49m\u001b[38;5;241;43m*\u001b[39;49m\u001b[43mtracers\u001b[49m\u001b[43m,\u001b[49m\u001b[43m \u001b[49m\u001b[38;5;241;43m*\u001b[39;49m\u001b[38;5;241;43m*\u001b[39;49m\u001b[43mparams\u001b[49m\u001b[43m)\u001b[49m\n",
      "File \u001b[0;32m~/PycharmProjects/LevyGAN/levygan_venv/lib/python3.11/site-packages/jax/_src/pjit.py:1409\u001b[0m, in \u001b[0;36m_pjit_call_impl\u001b[0;34m(jaxpr, in_shardings, out_shardings, resource_env, donated_invars, name, keep_unused, inline, *args)\u001b[0m\n\u001b[1;32m   1406\u001b[0m has_explicit_sharding \u001b[38;5;241m=\u001b[39m _pjit_explicit_sharding(\n\u001b[1;32m   1407\u001b[0m     in_shardings, out_shardings, \u001b[38;5;28;01mNone\u001b[39;00m, \u001b[38;5;28;01mNone\u001b[39;00m)\n\u001b[1;32m   1408\u001b[0m \u001b[38;5;28;01mif\u001b[39;00m xla_extension_version \u001b[38;5;241m>\u001b[39m\u001b[38;5;241m=\u001b[39m \u001b[38;5;241m226\u001b[39m:\n\u001b[0;32m-> 1409\u001b[0m   \u001b[38;5;28;01mreturn\u001b[39;00m \u001b[43mxc\u001b[49m\u001b[38;5;241;43m.\u001b[39;49m\u001b[43m_xla\u001b[49m\u001b[38;5;241;43m.\u001b[39;49m\u001b[43mpjit\u001b[49m\u001b[43m(\u001b[49m\n\u001b[1;32m   1410\u001b[0m \u001b[43m      \u001b[49m\u001b[43mname\u001b[49m\u001b[43m,\u001b[49m\u001b[43m \u001b[49m\u001b[43mf\u001b[49m\u001b[43m,\u001b[49m\u001b[43m \u001b[49m\u001b[43mcall_impl_cache_miss\u001b[49m\u001b[43m,\u001b[49m\u001b[43m \u001b[49m\u001b[43m[\u001b[49m\u001b[43m]\u001b[49m\u001b[43m,\u001b[49m\u001b[43m \u001b[49m\u001b[43m[\u001b[49m\u001b[43m]\u001b[49m\u001b[43m,\u001b[49m\u001b[43m \u001b[49m\u001b[43mdonated_argnums\u001b[49m\u001b[43m,\u001b[49m\n\u001b[1;32m   1411\u001b[0m \u001b[43m      \u001b[49m\u001b[43mtree_util\u001b[49m\u001b[38;5;241;43m.\u001b[39;49m\u001b[43mdispatch_registry\u001b[49m\u001b[43m,\u001b[49m\n\u001b[1;32m   1412\u001b[0m \u001b[43m      \u001b[49m\u001b[43mpxla\u001b[49m\u001b[38;5;241;43m.\u001b[39;49m\u001b[43mshard_arg\u001b[49m\u001b[43m \u001b[49m\u001b[38;5;28;43;01mif\u001b[39;49;00m\u001b[43m \u001b[49m\u001b[43mxla_extension_version\u001b[49m\u001b[43m \u001b[49m\u001b[38;5;241;43m>\u001b[39;49m\u001b[38;5;241;43m=\u001b[39;49m\u001b[43m \u001b[49m\u001b[38;5;241;43m229\u001b[39;49m\u001b[43m \u001b[49m\u001b[38;5;28;43;01melse\u001b[39;49;00m\u001b[43m \u001b[49m\u001b[43mpxla\u001b[49m\u001b[38;5;241;43m.\u001b[39;49m\u001b[43mtemp_shard_arg\u001b[49m\u001b[43m,\u001b[49m\u001b[43m  \u001b[49m\u001b[38;5;66;43;03m# type: ignore\u001b[39;49;00m\n\u001b[1;32m   1413\u001b[0m \u001b[43m      \u001b[49m\u001b[43m_get_cpp_global_cache\u001b[49m\u001b[43m(\u001b[49m\u001b[43mhas_explicit_sharding\u001b[49m\u001b[43m)\u001b[49m\u001b[43m)\u001b[49m\u001b[43m(\u001b[49m\u001b[38;5;241;43m*\u001b[39;49m\u001b[43margs\u001b[49m\u001b[43m)\u001b[49m\n\u001b[1;32m   1414\u001b[0m \u001b[38;5;28;01melse\u001b[39;00m:\n\u001b[1;32m   1415\u001b[0m   \u001b[38;5;28;01mreturn\u001b[39;00m xc\u001b[38;5;241m.\u001b[39m_xla\u001b[38;5;241m.\u001b[39mpjit(name, f, call_impl_cache_miss, [], [], donated_argnums,  \u001b[38;5;66;03m# type: ignore\u001b[39;00m\n\u001b[1;32m   1416\u001b[0m                       tree_util\u001b[38;5;241m.\u001b[39mdispatch_registry,\n\u001b[1;32m   1417\u001b[0m                       _get_cpp_global_cache(has_explicit_sharding))(\u001b[38;5;241m*\u001b[39margs)\n",
      "File \u001b[0;32m~/PycharmProjects/LevyGAN/levygan_venv/lib/python3.11/site-packages/jax/_src/pjit.py:1392\u001b[0m, in \u001b[0;36m_pjit_call_impl.<locals>.call_impl_cache_miss\u001b[0;34m(*args_, **kwargs_)\u001b[0m\n\u001b[1;32m   1391\u001b[0m \u001b[38;5;28;01mdef\u001b[39;00m \u001b[38;5;21mcall_impl_cache_miss\u001b[39m(\u001b[38;5;241m*\u001b[39margs_, \u001b[38;5;241m*\u001b[39m\u001b[38;5;241m*\u001b[39mkwargs_):\n\u001b[0;32m-> 1392\u001b[0m   out_flat, compiled \u001b[38;5;241m=\u001b[39m \u001b[43m_pjit_call_impl_python\u001b[49m\u001b[43m(\u001b[49m\n\u001b[1;32m   1393\u001b[0m \u001b[43m      \u001b[49m\u001b[38;5;241;43m*\u001b[39;49m\u001b[43margs\u001b[49m\u001b[43m,\u001b[49m\u001b[43m \u001b[49m\u001b[43mjaxpr\u001b[49m\u001b[38;5;241;43m=\u001b[39;49m\u001b[43mjaxpr\u001b[49m\u001b[43m,\u001b[49m\u001b[43m \u001b[49m\u001b[43min_shardings\u001b[49m\u001b[38;5;241;43m=\u001b[39;49m\u001b[43min_shardings\u001b[49m\u001b[43m,\u001b[49m\n\u001b[1;32m   1394\u001b[0m \u001b[43m      \u001b[49m\u001b[43mout_shardings\u001b[49m\u001b[38;5;241;43m=\u001b[39;49m\u001b[43mout_shardings\u001b[49m\u001b[43m,\u001b[49m\u001b[43m \u001b[49m\u001b[43mresource_env\u001b[49m\u001b[38;5;241;43m=\u001b[39;49m\u001b[43mresource_env\u001b[49m\u001b[43m,\u001b[49m\n\u001b[1;32m   1395\u001b[0m \u001b[43m      \u001b[49m\u001b[43mdonated_invars\u001b[49m\u001b[38;5;241;43m=\u001b[39;49m\u001b[43mdonated_invars\u001b[49m\u001b[43m,\u001b[49m\u001b[43m \u001b[49m\u001b[43mname\u001b[49m\u001b[38;5;241;43m=\u001b[39;49m\u001b[43mname\u001b[49m\u001b[43m,\u001b[49m\u001b[43m \u001b[49m\u001b[43mkeep_unused\u001b[49m\u001b[38;5;241;43m=\u001b[39;49m\u001b[43mkeep_unused\u001b[49m\u001b[43m,\u001b[49m\n\u001b[1;32m   1396\u001b[0m \u001b[43m      \u001b[49m\u001b[43minline\u001b[49m\u001b[38;5;241;43m=\u001b[39;49m\u001b[43minline\u001b[49m\u001b[43m)\u001b[49m\n\u001b[1;32m   1397\u001b[0m   fastpath_data \u001b[38;5;241m=\u001b[39m _get_fastpath_data(\n\u001b[1;32m   1398\u001b[0m       compiled, tree_structure(out_flat), args, out_flat, [])\n\u001b[1;32m   1399\u001b[0m   \u001b[38;5;28;01mreturn\u001b[39;00m out_flat, fastpath_data\n",
      "File \u001b[0;32m~/PycharmProjects/LevyGAN/levygan_venv/lib/python3.11/site-packages/jax/_src/pjit.py:1348\u001b[0m, in \u001b[0;36m_pjit_call_impl_python\u001b[0;34m(jaxpr, in_shardings, out_shardings, resource_env, donated_invars, name, keep_unused, inline, *args)\u001b[0m\n\u001b[1;32m   1342\u001b[0m   distributed_debug_log((\u001b[38;5;124m\"\u001b[39m\u001b[38;5;124mRunning pjit\u001b[39m\u001b[38;5;124m'\u001b[39m\u001b[38;5;124md function\u001b[39m\u001b[38;5;124m\"\u001b[39m, name),\n\u001b[1;32m   1343\u001b[0m                         (\u001b[38;5;124m\"\u001b[39m\u001b[38;5;124min_shardings\u001b[39m\u001b[38;5;124m\"\u001b[39m, in_shardings),\n\u001b[1;32m   1344\u001b[0m                         (\u001b[38;5;124m\"\u001b[39m\u001b[38;5;124mout_shardings\u001b[39m\u001b[38;5;124m\"\u001b[39m, out_shardings),\n\u001b[1;32m   1345\u001b[0m                         (\u001b[38;5;124m\"\u001b[39m\u001b[38;5;124mabstract args\u001b[39m\u001b[38;5;124m\"\u001b[39m, \u001b[38;5;28mmap\u001b[39m(xla\u001b[38;5;241m.\u001b[39mabstractify, args)),\n\u001b[1;32m   1346\u001b[0m                         (\u001b[38;5;124m\"\u001b[39m\u001b[38;5;124mfingerprint\u001b[39m\u001b[38;5;124m\"\u001b[39m, fingerprint))\n\u001b[1;32m   1347\u001b[0m \u001b[38;5;28;01mtry\u001b[39;00m:\n\u001b[0;32m-> 1348\u001b[0m   \u001b[38;5;28;01mreturn\u001b[39;00m \u001b[43mcompiled\u001b[49m\u001b[38;5;241;43m.\u001b[39;49m\u001b[43munsafe_call\u001b[49m\u001b[43m(\u001b[49m\u001b[38;5;241;43m*\u001b[39;49m\u001b[43margs\u001b[49m\u001b[43m)\u001b[49m, compiled\n\u001b[1;32m   1349\u001b[0m \u001b[38;5;28;01mexcept\u001b[39;00m \u001b[38;5;167;01mFloatingPointError\u001b[39;00m \u001b[38;5;28;01mas\u001b[39;00m e:\n\u001b[1;32m   1350\u001b[0m   \u001b[38;5;28;01massert\u001b[39;00m config\u001b[38;5;241m.\u001b[39mdebug_nans\u001b[38;5;241m.\u001b[39mvalue \u001b[38;5;129;01mor\u001b[39;00m config\u001b[38;5;241m.\u001b[39mdebug_infs\u001b[38;5;241m.\u001b[39mvalue  \u001b[38;5;66;03m# compiled_fun can only raise in this case\u001b[39;00m\n",
      "File \u001b[0;32m~/PycharmProjects/LevyGAN/levygan_venv/lib/python3.11/site-packages/jax/_src/profiler.py:336\u001b[0m, in \u001b[0;36mannotate_function.<locals>.wrapper\u001b[0;34m(*args, **kwargs)\u001b[0m\n\u001b[1;32m    333\u001b[0m \u001b[38;5;129m@wraps\u001b[39m(func)\n\u001b[1;32m    334\u001b[0m \u001b[38;5;28;01mdef\u001b[39;00m \u001b[38;5;21mwrapper\u001b[39m(\u001b[38;5;241m*\u001b[39margs, \u001b[38;5;241m*\u001b[39m\u001b[38;5;241m*\u001b[39mkwargs):\n\u001b[1;32m    335\u001b[0m   \u001b[38;5;28;01mwith\u001b[39;00m TraceAnnotation(name, \u001b[38;5;241m*\u001b[39m\u001b[38;5;241m*\u001b[39mdecorator_kwargs):\n\u001b[0;32m--> 336\u001b[0m     \u001b[38;5;28;01mreturn\u001b[39;00m \u001b[43mfunc\u001b[49m\u001b[43m(\u001b[49m\u001b[38;5;241;43m*\u001b[39;49m\u001b[43margs\u001b[49m\u001b[43m,\u001b[49m\u001b[43m \u001b[49m\u001b[38;5;241;43m*\u001b[39;49m\u001b[38;5;241;43m*\u001b[39;49m\u001b[43mkwargs\u001b[49m\u001b[43m)\u001b[49m\n\u001b[1;32m    337\u001b[0m   \u001b[38;5;28;01mreturn\u001b[39;00m wrapper\n",
      "File \u001b[0;32m~/PycharmProjects/LevyGAN/levygan_venv/lib/python3.11/site-packages/jax/_src/interpreters/pxla.py:1201\u001b[0m, in \u001b[0;36mExecuteReplicated.__call__\u001b[0;34m(self, *args)\u001b[0m\n\u001b[1;32m   1198\u001b[0m \u001b[38;5;28;01mif\u001b[39;00m (\u001b[38;5;28mself\u001b[39m\u001b[38;5;241m.\u001b[39mordered_effects \u001b[38;5;129;01mor\u001b[39;00m \u001b[38;5;28mself\u001b[39m\u001b[38;5;241m.\u001b[39mhas_unordered_effects\n\u001b[1;32m   1199\u001b[0m     \u001b[38;5;129;01mor\u001b[39;00m \u001b[38;5;28mself\u001b[39m\u001b[38;5;241m.\u001b[39mhas_host_callbacks):\n\u001b[1;32m   1200\u001b[0m   input_bufs \u001b[38;5;241m=\u001b[39m \u001b[38;5;28mself\u001b[39m\u001b[38;5;241m.\u001b[39m_add_tokens_to_inputs(input_bufs)\n\u001b[0;32m-> 1201\u001b[0m   results \u001b[38;5;241m=\u001b[39m \u001b[38;5;28;43mself\u001b[39;49m\u001b[38;5;241;43m.\u001b[39;49m\u001b[43mxla_executable\u001b[49m\u001b[38;5;241;43m.\u001b[39;49m\u001b[43mexecute_sharded\u001b[49m\u001b[43m(\u001b[49m\n\u001b[1;32m   1202\u001b[0m \u001b[43m      \u001b[49m\u001b[43minput_bufs\u001b[49m\u001b[43m,\u001b[49m\u001b[43m \u001b[49m\u001b[43mwith_tokens\u001b[49m\u001b[38;5;241;43m=\u001b[39;49m\u001b[38;5;28;43;01mTrue\u001b[39;49;00m\n\u001b[1;32m   1203\u001b[0m \u001b[43m  \u001b[49m\u001b[43m)\u001b[49m\n\u001b[1;32m   1204\u001b[0m   result_token_bufs \u001b[38;5;241m=\u001b[39m results\u001b[38;5;241m.\u001b[39mdisassemble_prefix_into_single_device_arrays(\n\u001b[1;32m   1205\u001b[0m       \u001b[38;5;28mlen\u001b[39m(\u001b[38;5;28mself\u001b[39m\u001b[38;5;241m.\u001b[39mordered_effects))\n\u001b[1;32m   1206\u001b[0m   sharded_runtime_token \u001b[38;5;241m=\u001b[39m results\u001b[38;5;241m.\u001b[39mconsume_token()\n",
      "\u001b[0;31mKeyboardInterrupt\u001b[0m: "
     ]
    }
   ],
   "source": [
    "num_reps = 20\n",
    "num_steps_wass = 2**13\n",
    "num_steps_ucf = 128\n",
    "total_steps = num_reps * (num_steps_wass + num_steps_ucf)\n",
    "# Set the learning rate schedule\n",
    "# schedule_wass = optax.cosine_decay_schedule(1e-4, total_steps, 1e-8)\n",
    "schedule_wass = optax.constant_schedule(1e-5)\n",
    "schedule_ucf = optax.cosine_decay_schedule(1e-5, total_steps, 1e-7)\n",
    "# schedule = optax.constant_schedule(1e-4)\n",
    "opt_wass, opt_state_wass = make_optimizer(\n",
    "    net, wass_discr, schedule_wass, beta1=0.95, beta2=0.995\n",
    ")\n",
    "opt_ucf, opt_state_ucf = make_optimizer(\n",
    "    net, ucf_discr, schedule_ucf, beta1=0.7, beta2=0.97\n",
    ")\n",
    "\n",
    "for i in range(num_reps):\n",
    "    # Re-initialize the discriminator every few iterations\n",
    "    # num_discr_iters = 3\n",
    "    # lr_ratio = 5.0\n",
    "    # if (i + 0) % 1000 == 0:\n",
    "    #     print(\"Re-initializing the discriminator\")\n",
    "    #     ucf_discr, GLOBAL_KEY = get_discr(GLOBAL_KEY, use_ucfd=True)\n",
    "    #     num_discr_iters += 7\n",
    "    #     lr_ratio *= 2.0\n",
    "\n",
    "    GLOBAL_KEY, temp_key = jr.split(GLOBAL_KEY, 2)\n",
    "    net, wass_discr, opt_state_wass, losses = train(\n",
    "        net,\n",
    "        wass_discr,\n",
    "        temp_key,\n",
    "        num_steps_wass,\n",
    "        opt_wass,\n",
    "        opt_state_wass,\n",
    "        bb_loss_fixed_wh,\n",
    "        1.0,\n",
    "        1,\n",
    "    )\n",
    "    avg_loss = float(jnp.mean(jnp.abs(losses)))\n",
    "    print(f\"======== Wasserstein rep {i+1}/{num_reps} ======== avg_loss: {avg_loss:.4}\")\n",
    "    losses_list.append(losses)\n",
    "    net_best = eval_and_save(\n",
    "        net_best, net, jr.key(6), true_4moms, 2**19, test_bm_dim, saving\n",
    "    )\n",
    "\n",
    "    # print(f\"======== UCF rep {i+1}/{num_reps} ========\")\n",
    "    # GLOBAL_KEY, temp_key = jr.split(GLOBAL_KEY, 2)\n",
    "    # net, ucf_discr, opt_state_ucf, losses = train(\n",
    "    #     net,\n",
    "    #     ucf_discr,\n",
    "    #     temp_key,\n",
    "    #     num_steps_ucf,\n",
    "    #     opt_ucf,\n",
    "    #     opt_state_ucf,\n",
    "    #     bb_loss_fixed_wh,\n",
    "    #     lr_ratio,\n",
    "    #     num_discr_iters,\n",
    "    # )\n",
    "    # losses_list.append(losses)\n",
    "    # net_best = eval_and_save(\n",
    "    #     net_best, net, jr.key(6), true_4moms, 2**20, test_bm_dim, saving\n",
    "    # )\n",
    "\n",
    "    # plot_losses(losses_list)\n",
    "    print(\"\\n\")"
   ]
  },
  {
   "cell_type": "code",
   "execution_count": null,
   "id": "15f1d267bfc8ea63",
   "metadata": {
    "collapsed": false
   },
   "outputs": [],
   "source": [
    "plot_losses(losses_list)"
   ]
  },
  {
   "cell_type": "code",
   "execution_count": 4,
   "id": "4fe9628a313157f9",
   "metadata": {
    "ExecuteTime": {
     "end_time": "2024-04-04T12:43:42.545744Z",
     "start_time": "2024-04-04T12:43:36.296964Z"
    },
    "collapsed": false
   },
   "outputs": [
    {
     "name": "stdout",
     "output_type": "stream",
     "text": [
      "Wass2: 0.00229; MOMS: 4max: 0.00486, 4avg: 0.000214, 3max: 0.00128, 2max: 0.00118, 1max: 0.00108, 0max: 0.00111\n"
     ]
    }
   ],
   "source": [
    "_ = evaluate_fosters_method(jr.key(6), true_4moms, 2**20, test_bm_dim)"
   ]
  },
  {
   "cell_type": "code",
   "execution_count": null,
   "id": "9e180de4b2cd3aec",
   "metadata": {
    "collapsed": false
   },
   "outputs": [],
   "source": []
  }
 ],
 "metadata": {
  "kernelspec": {
   "display_name": "Python 3",
   "language": "python",
   "name": "python3"
  },
  "language_info": {
   "codemirror_mode": {
    "name": "ipython",
    "version": 2
   },
   "file_extension": ".py",
   "mimetype": "text/x-python",
   "name": "python",
   "nbconvert_exporter": "python",
   "pygments_lexer": "ipython2",
   "version": "2.7.6"
  }
 },
 "nbformat": 4,
 "nbformat_minor": 5
}
